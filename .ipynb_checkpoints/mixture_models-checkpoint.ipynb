{
 "cells": [
  {
   "cell_type": "code",
   "execution_count": 2,
   "metadata": {},
   "outputs": [],
   "source": [
    "## load the packages\n",
    "import pandas as pd\n",
    "import numpy as np \n",
    "import seaborn as sns\n",
    "import matplotlib.pyplot as plt\n",
    "from scipy import stats\n",
    "import folium\n",
    "from folium import plugins\n",
    "import datetime\n",
    "import math\n",
    "from sklearn import mixture\n",
    "from sklearn.mixture import GaussianMixture\n",
    "from sklearn.mixture import GMM\n"
   ]
  },
  {
   "cell_type": "code",
   "execution_count": 3,
   "metadata": {},
   "outputs": [
    {
     "data": {
      "text/plain": [
       "'module://ipykernel.pylab.backend_inline'"
      ]
     },
     "execution_count": 3,
     "metadata": {},
     "output_type": "execute_result"
    }
   ],
   "source": [
    "# check which backend matplotlib is using\n",
    "plt.get_backend()"
   ]
  },
  {
   "cell_type": "code",
   "execution_count": 3,
   "metadata": {},
   "outputs": [],
   "source": [
    "## Load in the aggregated bike data: \n",
    "## this is 2016-2018 bike data\n",
    "totalTrips = pd.read_pickle('/Users/irena/Psych Bikes/Trips/bikedata_totalyears.pkl')"
   ]
  },
  {
   "cell_type": "code",
   "execution_count": 5,
   "metadata": {},
   "outputs": [
    {
     "data": {
      "text/plain": [
       "trip_id                       int64\n",
       "start_time           datetime64[ns]\n",
       "end_time             datetime64[ns]\n",
       "bikeid                        int64\n",
       "tripduration                 object\n",
       "from_station_id               int64\n",
       "from_station_name            object\n",
       "to_station_id                 int64\n",
       "to_station_name              object\n",
       "usertype                     object\n",
       "gender                       object\n",
       "birthyear                   float64\n",
       "dtype: object"
      ]
     },
     "execution_count": 5,
     "metadata": {},
     "output_type": "execute_result"
    }
   ],
   "source": [
    "totalTrips.dtypes"
   ]
  },
  {
   "cell_type": "code",
   "execution_count": 7,
   "metadata": {},
   "outputs": [],
   "source": [
    "totalTrips['tripduration'] = totalTrips['tripduration'].replace(',', '')"
   ]
  },
  {
   "cell_type": "code",
   "execution_count": 6,
   "metadata": {},
   "outputs": [],
   "source": [
    "# why is tripduration so hard to parse\n",
    "# Fix this if there is time \n",
    "#totalTrips['tripduration'] = pd.to_numeric(totalTrips['tripduration'].astype('str'))\n"
   ]
  },
  {
   "cell_type": "code",
   "execution_count": 4,
   "metadata": {},
   "outputs": [],
   "source": [
    "# create some variables that denote weekday vs. weekend, hour of day (0-24) \n",
    "totalTrips['is_weekend'] =totalTrips['start_time'].dt.dayofweek > 4\n",
    "totalTrips['hour'] = totalTrips['start_time'].dt.hour\n",
    "totalTrips['year']= totalTrips['start_time'].dt.year\n",
    "totalTrips['week']= totalTrips['start_time'].dt.week"
   ]
  },
  {
   "cell_type": "code",
   "execution_count": 5,
   "metadata": {},
   "outputs": [],
   "source": [
    "# also, add in morning and evening indicator variables \n",
    "totalTrips['is_morning'] = (totalTrips['hour'] > 5)& (totalTrips['hour'] <10)\n",
    "totalTrips['is_evening'] = (totalTrips['hour'] > 15)& (totalTrips['hour'] <20)\n"
   ]
  },
  {
   "cell_type": "code",
   "execution_count": 6,
   "metadata": {},
   "outputs": [],
   "source": [
    "# we are only interested in weekday trips\n",
    "totalTrips = totalTrips[totalTrips['is_weekend']==False]"
   ]
  },
  {
   "cell_type": "code",
   "execution_count": 19,
   "metadata": {
    "scrolled": true
   },
   "outputs": [
    {
     "data": {
      "text/html": [
       "<div>\n",
       "<style scoped>\n",
       "    .dataframe tbody tr th:only-of-type {\n",
       "        vertical-align: middle;\n",
       "    }\n",
       "\n",
       "    .dataframe tbody tr th {\n",
       "        vertical-align: top;\n",
       "    }\n",
       "\n",
       "    .dataframe thead th {\n",
       "        text-align: right;\n",
       "    }\n",
       "</style>\n",
       "<table border=\"1\" class=\"dataframe\">\n",
       "  <thead>\n",
       "    <tr style=\"text-align: right;\">\n",
       "      <th></th>\n",
       "      <th>trip_id</th>\n",
       "      <th>start_time</th>\n",
       "      <th>end_time</th>\n",
       "      <th>bikeid</th>\n",
       "      <th>tripduration</th>\n",
       "      <th>from_station_id</th>\n",
       "      <th>from_station_name</th>\n",
       "      <th>to_station_id</th>\n",
       "      <th>to_station_name</th>\n",
       "      <th>usertype</th>\n",
       "      <th>gender</th>\n",
       "      <th>birthyear</th>\n",
       "      <th>is_weekend</th>\n",
       "      <th>hour</th>\n",
       "      <th>year</th>\n",
       "      <th>week</th>\n",
       "      <th>is_morning</th>\n",
       "      <th>is_evening</th>\n",
       "    </tr>\n",
       "  </thead>\n",
       "  <tbody>\n",
       "    <tr>\n",
       "      <th>0</th>\n",
       "      <td>13518905</td>\n",
       "      <td>2017-03-31 23:59:07</td>\n",
       "      <td>2017-04-01 00:13:24</td>\n",
       "      <td>5292</td>\n",
       "      <td>NaN</td>\n",
       "      <td>66</td>\n",
       "      <td>Clinton St &amp; Lake St</td>\n",
       "      <td>171</td>\n",
       "      <td>May St &amp; Cullerton St</td>\n",
       "      <td>Subscriber</td>\n",
       "      <td>Male</td>\n",
       "      <td>1989.0</td>\n",
       "      <td>False</td>\n",
       "      <td>23</td>\n",
       "      <td>2017</td>\n",
       "      <td>13</td>\n",
       "      <td>False</td>\n",
       "      <td>False</td>\n",
       "    </tr>\n",
       "    <tr>\n",
       "      <th>1</th>\n",
       "      <td>13518904</td>\n",
       "      <td>2017-03-31 23:56:25</td>\n",
       "      <td>2017-04-01 00:00:21</td>\n",
       "      <td>4408</td>\n",
       "      <td>NaN</td>\n",
       "      <td>199</td>\n",
       "      <td>Wabash Ave &amp; Grand Ave</td>\n",
       "      <td>26</td>\n",
       "      <td>McClurg Ct &amp; Illinois St</td>\n",
       "      <td>Subscriber</td>\n",
       "      <td>Male</td>\n",
       "      <td>1990.0</td>\n",
       "      <td>False</td>\n",
       "      <td>23</td>\n",
       "      <td>2017</td>\n",
       "      <td>13</td>\n",
       "      <td>False</td>\n",
       "      <td>False</td>\n",
       "    </tr>\n",
       "    <tr>\n",
       "      <th>2</th>\n",
       "      <td>13518903</td>\n",
       "      <td>2017-03-31 23:55:33</td>\n",
       "      <td>2017-04-01 00:01:21</td>\n",
       "      <td>696</td>\n",
       "      <td>NaN</td>\n",
       "      <td>520</td>\n",
       "      <td>Greenview Ave &amp; Jarvis Ave</td>\n",
       "      <td>432</td>\n",
       "      <td>Clark St &amp; Lunt Ave</td>\n",
       "      <td>Subscriber</td>\n",
       "      <td>Female</td>\n",
       "      <td>1979.0</td>\n",
       "      <td>False</td>\n",
       "      <td>23</td>\n",
       "      <td>2017</td>\n",
       "      <td>13</td>\n",
       "      <td>False</td>\n",
       "      <td>False</td>\n",
       "    </tr>\n",
       "    <tr>\n",
       "      <th>3</th>\n",
       "      <td>13518902</td>\n",
       "      <td>2017-03-31 23:54:46</td>\n",
       "      <td>2017-03-31 23:59:34</td>\n",
       "      <td>4915</td>\n",
       "      <td>NaN</td>\n",
       "      <td>110</td>\n",
       "      <td>Dearborn St &amp; Erie St</td>\n",
       "      <td>142</td>\n",
       "      <td>McClurg Ct &amp; Erie St</td>\n",
       "      <td>Subscriber</td>\n",
       "      <td>Male</td>\n",
       "      <td>1985.0</td>\n",
       "      <td>False</td>\n",
       "      <td>23</td>\n",
       "      <td>2017</td>\n",
       "      <td>13</td>\n",
       "      <td>False</td>\n",
       "      <td>False</td>\n",
       "    </tr>\n",
       "    <tr>\n",
       "      <th>4</th>\n",
       "      <td>13518901</td>\n",
       "      <td>2017-03-31 23:53:33</td>\n",
       "      <td>2017-04-01 00:00:28</td>\n",
       "      <td>4247</td>\n",
       "      <td>NaN</td>\n",
       "      <td>327</td>\n",
       "      <td>Sheffield Ave &amp; Webster Ave</td>\n",
       "      <td>331</td>\n",
       "      <td>Halsted St &amp; Blackhawk St (*)</td>\n",
       "      <td>Subscriber</td>\n",
       "      <td>Female</td>\n",
       "      <td>1989.0</td>\n",
       "      <td>False</td>\n",
       "      <td>23</td>\n",
       "      <td>2017</td>\n",
       "      <td>13</td>\n",
       "      <td>False</td>\n",
       "      <td>False</td>\n",
       "    </tr>\n",
       "    <tr>\n",
       "      <th>5</th>\n",
       "      <td>13518900</td>\n",
       "      <td>2017-03-31 23:51:17</td>\n",
       "      <td>2017-03-31 23:55:19</td>\n",
       "      <td>3536</td>\n",
       "      <td>NaN</td>\n",
       "      <td>143</td>\n",
       "      <td>Sedgwick St &amp; Webster Ave</td>\n",
       "      <td>289</td>\n",
       "      <td>Wells St &amp; Concord Ln</td>\n",
       "      <td>Subscriber</td>\n",
       "      <td>Male</td>\n",
       "      <td>1988.0</td>\n",
       "      <td>False</td>\n",
       "      <td>23</td>\n",
       "      <td>2017</td>\n",
       "      <td>13</td>\n",
       "      <td>False</td>\n",
       "      <td>False</td>\n",
       "    </tr>\n",
       "    <tr>\n",
       "      <th>6</th>\n",
       "      <td>13518899</td>\n",
       "      <td>2017-03-31 23:51:16</td>\n",
       "      <td>2017-03-31 23:57:17</td>\n",
       "      <td>5111</td>\n",
       "      <td>NaN</td>\n",
       "      <td>81</td>\n",
       "      <td>Daley Center Plaza</td>\n",
       "      <td>41</td>\n",
       "      <td>Federal St &amp; Polk St</td>\n",
       "      <td>Subscriber</td>\n",
       "      <td>Male</td>\n",
       "      <td>1987.0</td>\n",
       "      <td>False</td>\n",
       "      <td>23</td>\n",
       "      <td>2017</td>\n",
       "      <td>13</td>\n",
       "      <td>False</td>\n",
       "      <td>False</td>\n",
       "    </tr>\n",
       "    <tr>\n",
       "      <th>7</th>\n",
       "      <td>13518898</td>\n",
       "      <td>2017-03-31 23:50:26</td>\n",
       "      <td>2017-03-31 23:56:20</td>\n",
       "      <td>1579</td>\n",
       "      <td>NaN</td>\n",
       "      <td>56</td>\n",
       "      <td>Desplaines St &amp; Kinzie St</td>\n",
       "      <td>77</td>\n",
       "      <td>Clinton St &amp; Madison St</td>\n",
       "      <td>Subscriber</td>\n",
       "      <td>Male</td>\n",
       "      <td>1981.0</td>\n",
       "      <td>False</td>\n",
       "      <td>23</td>\n",
       "      <td>2017</td>\n",
       "      <td>13</td>\n",
       "      <td>False</td>\n",
       "      <td>False</td>\n",
       "    </tr>\n",
       "    <tr>\n",
       "      <th>8</th>\n",
       "      <td>13518897</td>\n",
       "      <td>2017-03-31 23:50:25</td>\n",
       "      <td>2017-03-31 23:55:24</td>\n",
       "      <td>3914</td>\n",
       "      <td>NaN</td>\n",
       "      <td>210</td>\n",
       "      <td>Ashland Ave &amp; Division St</td>\n",
       "      <td>69</td>\n",
       "      <td>Damen Ave &amp; Pierce Ave</td>\n",
       "      <td>Subscriber</td>\n",
       "      <td>Male</td>\n",
       "      <td>1992.0</td>\n",
       "      <td>False</td>\n",
       "      <td>23</td>\n",
       "      <td>2017</td>\n",
       "      <td>13</td>\n",
       "      <td>False</td>\n",
       "      <td>False</td>\n",
       "    </tr>\n",
       "    <tr>\n",
       "      <th>9</th>\n",
       "      <td>13518896</td>\n",
       "      <td>2017-03-31 23:49:58</td>\n",
       "      <td>2017-04-01 00:09:31</td>\n",
       "      <td>5455</td>\n",
       "      <td>NaN</td>\n",
       "      <td>117</td>\n",
       "      <td>Wilton Ave &amp; Belmont Ave</td>\n",
       "      <td>29</td>\n",
       "      <td>Noble St &amp; Milwaukee Ave</td>\n",
       "      <td>Subscriber</td>\n",
       "      <td>Male</td>\n",
       "      <td>1989.0</td>\n",
       "      <td>False</td>\n",
       "      <td>23</td>\n",
       "      <td>2017</td>\n",
       "      <td>13</td>\n",
       "      <td>False</td>\n",
       "      <td>False</td>\n",
       "    </tr>\n",
       "  </tbody>\n",
       "</table>\n",
       "</div>"
      ],
      "text/plain": [
       "    trip_id          start_time            end_time  bikeid  tripduration  \\\n",
       "0  13518905 2017-03-31 23:59:07 2017-04-01 00:13:24    5292           NaN   \n",
       "1  13518904 2017-03-31 23:56:25 2017-04-01 00:00:21    4408           NaN   \n",
       "2  13518903 2017-03-31 23:55:33 2017-04-01 00:01:21     696           NaN   \n",
       "3  13518902 2017-03-31 23:54:46 2017-03-31 23:59:34    4915           NaN   \n",
       "4  13518901 2017-03-31 23:53:33 2017-04-01 00:00:28    4247           NaN   \n",
       "5  13518900 2017-03-31 23:51:17 2017-03-31 23:55:19    3536           NaN   \n",
       "6  13518899 2017-03-31 23:51:16 2017-03-31 23:57:17    5111           NaN   \n",
       "7  13518898 2017-03-31 23:50:26 2017-03-31 23:56:20    1579           NaN   \n",
       "8  13518897 2017-03-31 23:50:25 2017-03-31 23:55:24    3914           NaN   \n",
       "9  13518896 2017-03-31 23:49:58 2017-04-01 00:09:31    5455           NaN   \n",
       "\n",
       "   from_station_id            from_station_name  to_station_id  \\\n",
       "0               66         Clinton St & Lake St            171   \n",
       "1              199       Wabash Ave & Grand Ave             26   \n",
       "2              520   Greenview Ave & Jarvis Ave            432   \n",
       "3              110        Dearborn St & Erie St            142   \n",
       "4              327  Sheffield Ave & Webster Ave            331   \n",
       "5              143    Sedgwick St & Webster Ave            289   \n",
       "6               81           Daley Center Plaza             41   \n",
       "7               56    Desplaines St & Kinzie St             77   \n",
       "8              210    Ashland Ave & Division St             69   \n",
       "9              117     Wilton Ave & Belmont Ave             29   \n",
       "\n",
       "                 to_station_name    usertype  gender  birthyear  is_weekend  \\\n",
       "0          May St & Cullerton St  Subscriber    Male     1989.0       False   \n",
       "1       McClurg Ct & Illinois St  Subscriber    Male     1990.0       False   \n",
       "2            Clark St & Lunt Ave  Subscriber  Female     1979.0       False   \n",
       "3           McClurg Ct & Erie St  Subscriber    Male     1985.0       False   \n",
       "4  Halsted St & Blackhawk St (*)  Subscriber  Female     1989.0       False   \n",
       "5          Wells St & Concord Ln  Subscriber    Male     1988.0       False   \n",
       "6           Federal St & Polk St  Subscriber    Male     1987.0       False   \n",
       "7        Clinton St & Madison St  Subscriber    Male     1981.0       False   \n",
       "8         Damen Ave & Pierce Ave  Subscriber    Male     1992.0       False   \n",
       "9       Noble St & Milwaukee Ave  Subscriber    Male     1989.0       False   \n",
       "\n",
       "   hour  year  week  is_morning  is_evening  \n",
       "0    23  2017    13       False       False  \n",
       "1    23  2017    13       False       False  \n",
       "2    23  2017    13       False       False  \n",
       "3    23  2017    13       False       False  \n",
       "4    23  2017    13       False       False  \n",
       "5    23  2017    13       False       False  \n",
       "6    23  2017    13       False       False  \n",
       "7    23  2017    13       False       False  \n",
       "8    23  2017    13       False       False  \n",
       "9    23  2017    13       False       False  "
      ]
     },
     "execution_count": 19,
     "metadata": {},
     "output_type": "execute_result"
    }
   ],
   "source": [
    "# we are going to aggregate this data to the weekly level: \n",
    "totalTrips.head(10)"
   ]
  },
  {
   "cell_type": "code",
   "execution_count": 7,
   "metadata": {},
   "outputs": [],
   "source": [
    "## we will aggregate the data at the weekly level, \n",
    "# taking the count of trip_ids\n",
    "# this dataset contains just one ID per station and departure counts + arrival counts for that station \n",
    "departureData = totalTrips.groupby(['year','week','from_station_id','hour','is_morning','is_evening','usertype'], as_index=False)['trip_id'].count()\n",
    "arrivalData = totalTrips.groupby(['year','week','to_station_id','hour','is_morning','is_evening','usertype'], as_index=False)['trip_id'].count()\n",
    "\n",
    "#  and the average trip duration:\n",
    "# meanData = totalTrips.groupby(['year','week','from_station_id','to_station_id','is_morning','is_evening','usertype', 'gender', 'is_weekend','birthyear'], as_index=False)['tripduration'].mean()"
   ]
  },
  {
   "cell_type": "code",
   "execution_count": 8,
   "metadata": {},
   "outputs": [],
   "source": [
    "# only keep the columns that we want \n",
    "departureData.columns = ['year','week','id','hour','is_morning','is_evening','usertype','departure_count']\n",
    "arrivalData.columns = ['year','week','id','hour','is_morning','is_evening','usertype', 'arrival_count']\n"
   ]
  },
  {
   "cell_type": "code",
   "execution_count": 7,
   "metadata": {},
   "outputs": [
    {
     "data": {
      "text/html": [
       "<div>\n",
       "<style scoped>\n",
       "    .dataframe tbody tr th:only-of-type {\n",
       "        vertical-align: middle;\n",
       "    }\n",
       "\n",
       "    .dataframe tbody tr th {\n",
       "        vertical-align: top;\n",
       "    }\n",
       "\n",
       "    .dataframe thead th {\n",
       "        text-align: right;\n",
       "    }\n",
       "</style>\n",
       "<table border=\"1\" class=\"dataframe\">\n",
       "  <thead>\n",
       "    <tr style=\"text-align: right;\">\n",
       "      <th></th>\n",
       "      <th>year</th>\n",
       "      <th>week</th>\n",
       "      <th>from_station_id</th>\n",
       "      <th>to_station_id</th>\n",
       "      <th>hour</th>\n",
       "      <th>is_morning</th>\n",
       "      <th>is_evening</th>\n",
       "      <th>usertype</th>\n",
       "      <th>trip_counts</th>\n",
       "    </tr>\n",
       "  </thead>\n",
       "  <tbody>\n",
       "    <tr>\n",
       "      <th>0</th>\n",
       "      <td>2016</td>\n",
       "      <td>1</td>\n",
       "      <td>2</td>\n",
       "      <td>47</td>\n",
       "      <td>12</td>\n",
       "      <td>False</td>\n",
       "      <td>False</td>\n",
       "      <td>Customer</td>\n",
       "      <td>2</td>\n",
       "    </tr>\n",
       "    <tr>\n",
       "      <th>1</th>\n",
       "      <td>2016</td>\n",
       "      <td>1</td>\n",
       "      <td>2</td>\n",
       "      <td>194</td>\n",
       "      <td>14</td>\n",
       "      <td>False</td>\n",
       "      <td>False</td>\n",
       "      <td>Customer</td>\n",
       "      <td>1</td>\n",
       "    </tr>\n",
       "    <tr>\n",
       "      <th>2</th>\n",
       "      <td>2016</td>\n",
       "      <td>1</td>\n",
       "      <td>2</td>\n",
       "      <td>286</td>\n",
       "      <td>13</td>\n",
       "      <td>False</td>\n",
       "      <td>False</td>\n",
       "      <td>Subscriber</td>\n",
       "      <td>1</td>\n",
       "    </tr>\n",
       "    <tr>\n",
       "      <th>3</th>\n",
       "      <td>2016</td>\n",
       "      <td>1</td>\n",
       "      <td>3</td>\n",
       "      <td>26</td>\n",
       "      <td>12</td>\n",
       "      <td>False</td>\n",
       "      <td>False</td>\n",
       "      <td>Subscriber</td>\n",
       "      <td>1</td>\n",
       "    </tr>\n",
       "    <tr>\n",
       "      <th>4</th>\n",
       "      <td>2016</td>\n",
       "      <td>1</td>\n",
       "      <td>3</td>\n",
       "      <td>59</td>\n",
       "      <td>12</td>\n",
       "      <td>False</td>\n",
       "      <td>False</td>\n",
       "      <td>Customer</td>\n",
       "      <td>2</td>\n",
       "    </tr>\n",
       "    <tr>\n",
       "      <th>5</th>\n",
       "      <td>2016</td>\n",
       "      <td>1</td>\n",
       "      <td>3</td>\n",
       "      <td>59</td>\n",
       "      <td>15</td>\n",
       "      <td>False</td>\n",
       "      <td>False</td>\n",
       "      <td>Subscriber</td>\n",
       "      <td>1</td>\n",
       "    </tr>\n",
       "    <tr>\n",
       "      <th>6</th>\n",
       "      <td>2016</td>\n",
       "      <td>1</td>\n",
       "      <td>3</td>\n",
       "      <td>59</td>\n",
       "      <td>16</td>\n",
       "      <td>False</td>\n",
       "      <td>True</td>\n",
       "      <td>Subscriber</td>\n",
       "      <td>1</td>\n",
       "    </tr>\n",
       "    <tr>\n",
       "      <th>7</th>\n",
       "      <td>2016</td>\n",
       "      <td>1</td>\n",
       "      <td>3</td>\n",
       "      <td>76</td>\n",
       "      <td>8</td>\n",
       "      <td>True</td>\n",
       "      <td>False</td>\n",
       "      <td>Customer</td>\n",
       "      <td>1</td>\n",
       "    </tr>\n",
       "    <tr>\n",
       "      <th>8</th>\n",
       "      <td>2016</td>\n",
       "      <td>1</td>\n",
       "      <td>3</td>\n",
       "      <td>76</td>\n",
       "      <td>15</td>\n",
       "      <td>False</td>\n",
       "      <td>False</td>\n",
       "      <td>Subscriber</td>\n",
       "      <td>1</td>\n",
       "    </tr>\n",
       "    <tr>\n",
       "      <th>9</th>\n",
       "      <td>2016</td>\n",
       "      <td>1</td>\n",
       "      <td>3</td>\n",
       "      <td>85</td>\n",
       "      <td>13</td>\n",
       "      <td>False</td>\n",
       "      <td>False</td>\n",
       "      <td>Customer</td>\n",
       "      <td>2</td>\n",
       "    </tr>\n",
       "  </tbody>\n",
       "</table>\n",
       "</div>"
      ],
      "text/plain": [
       "   year  week  from_station_id  to_station_id  hour  is_morning  is_evening  \\\n",
       "0  2016     1                2             47    12       False       False   \n",
       "1  2016     1                2            194    14       False       False   \n",
       "2  2016     1                2            286    13       False       False   \n",
       "3  2016     1                3             26    12       False       False   \n",
       "4  2016     1                3             59    12       False       False   \n",
       "5  2016     1                3             59    15       False       False   \n",
       "6  2016     1                3             59    16       False        True   \n",
       "7  2016     1                3             76     8        True       False   \n",
       "8  2016     1                3             76    15       False       False   \n",
       "9  2016     1                3             85    13       False       False   \n",
       "\n",
       "     usertype  trip_counts  \n",
       "0    Customer            2  \n",
       "1    Customer            1  \n",
       "2  Subscriber            1  \n",
       "3  Subscriber            1  \n",
       "4    Customer            2  \n",
       "5  Subscriber            1  \n",
       "6  Subscriber            1  \n",
       "7    Customer            1  \n",
       "8  Subscriber            1  \n",
       "9    Customer            2  "
      ]
     },
     "execution_count": 7,
     "metadata": {},
     "output_type": "execute_result"
    }
   ],
   "source": [
    "## we will aggregate the data at the weekly level, \n",
    "# this dataset contains the from and to station IDs and a \"trip count\" (counting the rows)\n",
    "stationDiffData = totalTrips.groupby(['year','week','from_station_id','to_station_id','hour','is_morning','is_evening','usertype'], as_index=False).size().reset_index(name='trip_counts')\n",
    "stationDiffData.head(10)"
   ]
  },
  {
   "cell_type": "code",
   "execution_count": 11,
   "metadata": {},
   "outputs": [],
   "source": [
    "## merge the arrival and departure counts\n",
    "totalData = pd.merge(arrivalData, departureData, on=['year','week','usertype','id','is_morning','is_evening','hour'], how='inner')"
   ]
  },
  {
   "cell_type": "code",
   "execution_count": 15,
   "metadata": {},
   "outputs": [
    {
     "data": {
      "text/plain": [
       "(688477, 9)"
      ]
     },
     "execution_count": 15,
     "metadata": {},
     "output_type": "execute_result"
    }
   ],
   "source": [
    "totalData.shape"
   ]
  },
  {
   "cell_type": "code",
   "execution_count": 12,
   "metadata": {},
   "outputs": [
    {
     "data": {
      "text/plain": [
       "(150,)"
      ]
     },
     "execution_count": 12,
     "metadata": {},
     "output_type": "execute_result"
    }
   ],
   "source": [
    "from sklearn import datasets \n",
    "\n",
    "#Importing data from Iris dataset \n",
    "\n",
    "iris = datasets.load_iris()\n",
    "X = iris.data[:,:2]\n",
    "Y = iris.target\n",
    "Y[:] = Y+1; \n",
    "Y.shape"
   ]
  },
  {
   "cell_type": "code",
   "execution_count": 8,
   "metadata": {},
   "outputs": [],
   "source": [
    "# drop the usertype column from both datasets: \n",
    "arrival_dept_for_model = totalData.drop(\"usertype\", axis=1)\n",
    "total_trips_for_model = stationDiffData.drop(\"usertype\", axis=1)"
   ]
  },
  {
   "cell_type": "code",
   "execution_count": 20,
   "metadata": {},
   "outputs": [
    {
     "data": {
      "text/plain": [
       "year               int64\n",
       "week               int64\n",
       "id                 int64\n",
       "hour               int64\n",
       "is_morning          bool\n",
       "is_evening          bool\n",
       "arrival_count      int64\n",
       "departure_count    int64\n",
       "dtype: object"
      ]
     },
     "execution_count": 20,
     "metadata": {},
     "output_type": "execute_result"
    }
   ],
   "source": [
    "arrival_dept_for_model.dtypes"
   ]
  },
  {
   "cell_type": "code",
   "execution_count": 9,
   "metadata": {},
   "outputs": [
    {
     "data": {
      "text/plain": [
       "year               int64\n",
       "week               int64\n",
       "from_station_id    int64\n",
       "to_station_id      int64\n",
       "hour               int64\n",
       "is_morning          bool\n",
       "is_evening          bool\n",
       "trip_counts        int64\n",
       "dtype: object"
      ]
     },
     "execution_count": 9,
     "metadata": {},
     "output_type": "execute_result"
    }
   ],
   "source": [
    "total_trips_for_model.dtypes"
   ]
  },
  {
   "cell_type": "code",
   "execution_count": 14,
   "metadata": {},
   "outputs": [],
   "source": [
    "# try with 2 subgroups\n",
    "gmm =  GaussianMixture(n_components=2).fit(arrival_dept_for_model) \n",
    "\n",
    "# array of predictions of classes \n",
    "proba_lists = gmm.predict(arrival_dept_for_model)"
   ]
  },
  {
   "cell_type": "code",
   "execution_count": 23,
   "metadata": {},
   "outputs": [
    {
     "data": {
      "text/plain": [
       "array([1, 1, 1, ..., 0, 1, 1])"
      ]
     },
     "execution_count": 23,
     "metadata": {},
     "output_type": "execute_result"
    }
   ],
   "source": [
    "proba_lists"
   ]
  },
  {
   "cell_type": "code",
   "execution_count": 10,
   "metadata": {},
   "outputs": [],
   "source": [
    "# try with 3 subgroups ( this is on the dataset with \"to_station\" and \"from_station\") \n",
    "gmm =  GaussianMixture(n_components=3).fit(total_trips_for_model)\n",
    "# gmm.fit(totalData)\n",
    "proba_lists2 = gmm.predict(total_trips_for_model)"
   ]
  },
  {
   "cell_type": "code",
   "execution_count": 16,
   "metadata": {},
   "outputs": [
    {
     "data": {
      "text/plain": [
       "array([2, 2, 2, ..., 0, 2, 2])"
      ]
     },
     "execution_count": 16,
     "metadata": {},
     "output_type": "execute_result"
    }
   ],
   "source": [
    "proba_lists2"
   ]
  },
  {
   "cell_type": "code",
   "execution_count": 25,
   "metadata": {
    "scrolled": true
   },
   "outputs": [
    {
     "data": {
      "image/png": "[encoded data removed]",
      "text/plain": [
       "<Figure size 576x432 with 1 Axes>"
      ]
     },
     "metadata": {},
     "output_type": "display_data"
    }
   ],
   "source": [
    "plt.scatter(totalData['hour'], totalData['departure_count'], c=totalData['usertype'], s=40);\n",
    "plt.legend(labels)\n",
    "figure = plt.gcf() # get current figure\n",
    "figure.set_size_inches(8, 6)\n",
    "# when saving, specify the DPI\n",
    "plt.savefig(\"truedata_2classes.png\", dpi = 1200)"
   ]
  },
  {
   "cell_type": "code",
   "execution_count": 21,
   "metadata": {},
   "outputs": [
    {
     "data": {
      "text/plain": [
       "<Figure size 576x432 with 0 Axes>"
      ]
     },
     "metadata": {},
     "output_type": "display_data"
    }
   ],
   "source": []
  },
  {
   "cell_type": "code",
   "execution_count": null,
   "metadata": {},
   "outputs": [],
   "source": [
    "#plot our modeled data (the one with arrival and departure counts)\n",
    "plt.scatter(arrival_dept_for_model['hour'], arrival_dept_for_model['departure_count'], c=proba_lists, s=40);\n"
   ]
  },
  {
   "cell_type": "code",
   "execution_count": 24,
   "metadata": {},
   "outputs": [
    {
     "data": {
      "image/png": "[encoded data removed]",
      "text/plain": [
       "<Figure size 576x432 with 1 Axes>"
      ]
     },
     "metadata": {},
     "output_type": "display_data"
    }
   ],
   "source": [
    "# plot 2 subgroups for departures\n",
    "plt.scatter(totalData['hour'], totalData['departure_count'], c=proba_lists, s=40);\n",
    "plt.legend()\n",
    "figure = plt.gcf() # get current figure\n",
    "figure.set_size_inches(8, 6)\n",
    "# when saving, specify the DPI\n",
    "plt.savefig(\"predicteddata_2classes.png\", dpi = 1200)"
   ]
  },
  {
   "cell_type": "code",
   "execution_count": 68,
   "metadata": {},
   "outputs": [
    {
     "data": {
      "image/png": "[encoded data removed]",
      "text/plain": [
       "<Figure size 432x288 with 1 Axes>"
      ]
     },
     "metadata": {},
     "output_type": "display_data"
    }
   ],
   "source": [
    "# plot 2 subgroups for arrivals as well \n",
    "plt.scatter(totalData['hour'], totalData['arrival_count'], c=proba_lists, s=40);"
   ]
  },
  {
   "cell_type": "code",
   "execution_count": 23,
   "metadata": {},
   "outputs": [
    {
     "data": {
      "image/png": "[encoded data removed]",
      "text/plain": [
       "<Figure size 432x288 with 1 Axes>"
      ]
     },
     "metadata": {},
     "output_type": "display_data"
    }
   ],
   "source": [
    "# this should be basically the same plot as the one for the arrivals/departures dataset: \n",
    "plt.scatter(stationDiffData['hour'], stationDiffData['trip_counts'], c=stationDiffData['usertype'], s=40);"
   ]
  },
  {
   "cell_type": "code",
   "execution_count": 11,
   "metadata": {},
   "outputs": [
    {
     "data": {
      "image/png": "[encoded data removed]",
      "text/plain": [
       "<Figure size 432x288 with 1 Axes>"
      ]
     },
     "metadata": {},
     "output_type": "display_data"
    }
   ],
   "source": [
    "# plot 3 subgoups with just trip count: \n",
    "plt.scatter(total_trips_for_model['hour'], total_trips_for_model['trip_counts'], c=proba_lists2, s=40);\n"
   ]
  },
  {
   "cell_type": "code",
   "execution_count": null,
   "metadata": {},
   "outputs": [],
   "source": [
    "plt.scatter(data['morning_ratio'], data['evening_ratio'])\n",
    "plt.xlabel('Morning Ratio')\n",
    "plt.ylabel('Evening Ratio')\n",
    "plt.legend()\n",
    "plt.show()\n"
   ]
  }
 ],
 "metadata": {
  "kernelspec": {
   "display_name": "Python 3",
   "language": "python",
   "name": "python3"
  },
  "language_info": {
   "codemirror_mode": {
    "name": "ipython",
    "version": 3
   },
   "file_extension": ".py",
   "mimetype": "text/x-python",
   "name": "python",
   "nbconvert_exporter": "python",
   "pygments_lexer": "ipython3",
   "version": "3.6.5"
  }
 },
 "nbformat": 4,
 "nbformat_minor": 2
}
